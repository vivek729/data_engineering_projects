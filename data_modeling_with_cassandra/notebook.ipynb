{
 "cells": [
  {
   "cell_type": "markdown",
   "metadata": {
    "editable": true
   },
   "source": [
    "# ETL Pipeline for Pre-Processing the Files"
   ]
  },
  {
   "cell_type": "code",
   "execution_count": 1,
   "metadata": {
    "editable": true
   },
   "outputs": [],
   "source": [
    "import pandas as pd\n",
    "import cassandra\n",
    "import re\n",
    "import os\n",
    "import glob\n",
    "import numpy as np\n",
    "import json\n",
    "import csv"
   ]
  },
  {
   "cell_type": "markdown",
   "metadata": {
    "editable": true
   },
   "source": [
    "#### Creating list of filepaths to process original event csv data files"
   ]
  },
  {
   "cell_type": "code",
   "execution_count": 2,
   "metadata": {
    "editable": true
   },
   "outputs": [
    {
     "name": "stdout",
     "output_type": "stream",
     "text": [
      "Current working directory: /home/workspace\n",
      "/home/workspace/event_data/2018-11-27-events.csv\n",
      "/home/workspace/event_data/2018-11-04-events.csv\n",
      "/home/workspace/event_data/2018-11-07-events.csv\n",
      "/home/workspace/event_data/2018-11-09-events.csv\n",
      "/home/workspace/event_data/2018-11-19-events.csv\n",
      "/home/workspace/event_data/2018-11-05-events.csv\n",
      "/home/workspace/event_data/2018-11-22-events.csv\n",
      "/home/workspace/event_data/2018-11-16-events.csv\n",
      "/home/workspace/event_data/2018-11-26-events.csv\n",
      "/home/workspace/event_data/2018-11-24-events.csv\n",
      "/home/workspace/event_data/2018-11-29-events.csv\n",
      "/home/workspace/event_data/2018-11-15-events.csv\n",
      "/home/workspace/event_data/2018-11-20-events.csv\n",
      "/home/workspace/event_data/2018-11-06-events.csv\n",
      "/home/workspace/event_data/2018-11-18-events.csv\n",
      "/home/workspace/event_data/2018-11-21-events.csv\n",
      "/home/workspace/event_data/2018-11-10-events.csv\n",
      "/home/workspace/event_data/2018-11-23-events.csv\n",
      "/home/workspace/event_data/2018-11-02-events.csv\n",
      "/home/workspace/event_data/2018-11-28-events.csv\n",
      "/home/workspace/event_data/2018-11-03-events.csv\n",
      "/home/workspace/event_data/2018-11-13-events.csv\n",
      "/home/workspace/event_data/2018-11-30-events.csv\n",
      "/home/workspace/event_data/2018-11-12-events.csv\n",
      "/home/workspace/event_data/2018-11-01-events.csv\n",
      "/home/workspace/event_data/2018-11-14-events.csv\n",
      "/home/workspace/event_data/2018-11-25-events.csv\n",
      "/home/workspace/event_data/2018-11-08-events.csv\n",
      "/home/workspace/event_data/2018-11-17-events.csv\n",
      "/home/workspace/event_data/2018-11-11-events.csv\n"
     ]
    }
   ],
   "source": [
    "# checking current working directory\n",
    "print(\"Current working directory: {}\".format(os.getcwd()))\n",
    "\n",
    "# Path where csv files are located\n",
    "filepath = os.getcwd() + '/event_data'\n",
    "\n",
    "file_path_list = []\n",
    "# Create a list of filepaths\n",
    "for root, dirs, files in os.walk(filepath):\n",
    "    \n",
    "    # join the file path and root for all csv files using glob to get file_path_list\n",
    "    csv_file_paths = glob.glob(os.path.join(root,'*.csv'))\n",
    "    for csv_file_path in csv_file_paths:\n",
    "        file_path_list.append(csv_file_path)\n",
    "print(*file_path_list, sep=\"\\n\")"
   ]
  },
  {
   "cell_type": "markdown",
   "metadata": {
    "editable": true
   },
   "source": [
    "#### Processing the files to create the data file csv that will be used for Apache Casssandra tables"
   ]
  },
  {
   "cell_type": "code",
   "execution_count": 3,
   "metadata": {
    "editable": true
   },
   "outputs": [
    {
     "name": "stdout",
     "output_type": "stream",
     "text": [
      "Reading from file /home/workspace/event_data/2018-11-27-events.csv\n",
      "Done.\n",
      "Lines read: 303\n",
      "\n",
      "Reading from file /home/workspace/event_data/2018-11-04-events.csv\n",
      "Done.\n",
      "Lines read: 189\n",
      "\n",
      "Reading from file /home/workspace/event_data/2018-11-07-events.csv\n",
      "Done.\n",
      "Lines read: 202\n",
      "\n",
      "Reading from file /home/workspace/event_data/2018-11-09-events.csv\n",
      "Done.\n",
      "Lines read: 283\n",
      "\n",
      "Reading from file /home/workspace/event_data/2018-11-19-events.csv\n",
      "Done.\n",
      "Lines read: 327\n",
      "\n",
      "Reading from file /home/workspace/event_data/2018-11-05-events.csv\n",
      "Done.\n",
      "Lines read: 408\n",
      "\n",
      "Reading from file /home/workspace/event_data/2018-11-22-events.csv\n",
      "Done.\n",
      "Lines read: 98\n",
      "\n",
      "Reading from file /home/workspace/event_data/2018-11-16-events.csv\n",
      "Done.\n",
      "Lines read: 382\n",
      "\n",
      "Reading from file /home/workspace/event_data/2018-11-26-events.csv\n",
      "Done.\n",
      "Lines read: 270\n",
      "\n",
      "Reading from file /home/workspace/event_data/2018-11-24-events.csv\n",
      "Done.\n",
      "Lines read: 358\n",
      "\n",
      "Reading from file /home/workspace/event_data/2018-11-29-events.csv\n",
      "Done.\n",
      "Lines read: 366\n",
      "\n",
      "Reading from file /home/workspace/event_data/2018-11-15-events.csv\n",
      "Done.\n",
      "Lines read: 533\n",
      "\n",
      "Reading from file /home/workspace/event_data/2018-11-20-events.csv\n",
      "Done.\n",
      "Lines read: 379\n",
      "\n",
      "Reading from file /home/workspace/event_data/2018-11-06-events.csv\n",
      "Done.\n",
      "Lines read: 184\n",
      "\n",
      "Reading from file /home/workspace/event_data/2018-11-18-events.csv\n",
      "Done.\n",
      "Lines read: 157\n",
      "\n",
      "Reading from file /home/workspace/event_data/2018-11-21-events.csv\n",
      "Done.\n",
      "Lines read: 517\n",
      "\n",
      "Reading from file /home/workspace/event_data/2018-11-10-events.csv\n",
      "Done.\n",
      "Lines read: 96\n",
      "\n",
      "Reading from file /home/workspace/event_data/2018-11-23-events.csv\n",
      "Done.\n",
      "Lines read: 299\n",
      "\n",
      "Reading from file /home/workspace/event_data/2018-11-02-events.csv\n",
      "Done.\n",
      "Lines read: 171\n",
      "\n",
      "Reading from file /home/workspace/event_data/2018-11-28-events.csv\n",
      "Done.\n",
      "Lines read: 433\n",
      "\n",
      "Reading from file /home/workspace/event_data/2018-11-03-events.csv\n",
      "Done.\n",
      "Lines read: 111\n",
      "\n",
      "Reading from file /home/workspace/event_data/2018-11-13-events.csv\n",
      "Done.\n",
      "Lines read: 394\n",
      "\n",
      "Reading from file /home/workspace/event_data/2018-11-30-events.csv\n",
      "Done.\n",
      "Lines read: 388\n",
      "\n",
      "Reading from file /home/workspace/event_data/2018-11-12-events.csv\n",
      "Done.\n",
      "Lines read: 213\n",
      "\n",
      "Reading from file /home/workspace/event_data/2018-11-01-events.csv\n",
      "Done.\n",
      "Lines read: 15\n",
      "\n",
      "Reading from file /home/workspace/event_data/2018-11-14-events.csv\n",
      "Done.\n",
      "Lines read: 457\n",
      "\n",
      "Reading from file /home/workspace/event_data/2018-11-25-events.csv\n",
      "Done.\n",
      "Lines read: 59\n",
      "\n",
      "Reading from file /home/workspace/event_data/2018-11-08-events.csv\n",
      "Done.\n",
      "Lines read: 223\n",
      "\n",
      "Reading from file /home/workspace/event_data/2018-11-17-events.csv\n",
      "Done.\n",
      "Lines read: 146\n",
      "\n",
      "Reading from file /home/workspace/event_data/2018-11-11-events.csv\n",
      "Done.\n",
      "Lines read: 95\n",
      "\n",
      "\n",
      "-----------------------------------------------------------\n",
      "\n",
      "Total lines read: 8056\n",
      "\n",
      "-----------------------------------------------------------\n",
      "\n",
      "First five lines read:\n",
      "\n",
      "['Barry Tuckwell/Academy of St Martin-in-the-Fields/Sir Neville Marriner', 'Logged In', 'Mohammad', 'M', '0', 'Rodriguez', '277.15873', 'paid', 'Sacramento--Roseville--Arden-Arcade, CA', 'PUT', 'NextSong', '1.54051E+12', '961', 'Horn Concerto No. 4 in E flat K495: II. Romance (Andante cantabile)', '200', '1.54328E+12', '88']\n",
      "\n",
      "['Jimi Hendrix', 'Logged In', 'Mohammad', 'M', '1', 'Rodriguez', '239.82975', 'paid', 'Sacramento--Roseville--Arden-Arcade, CA', 'PUT', 'NextSong', '1.54051E+12', '961', 'Woodstock Inprovisation', '200', '1.54328E+12', '88']\n",
      "\n",
      "['Building 429', 'Logged In', 'Mohammad', 'M', '2', 'Rodriguez', '300.61669', 'paid', 'Sacramento--Roseville--Arden-Arcade, CA', 'PUT', 'NextSong', '1.54051E+12', '961', 'Majesty (LP Version)', '200', '1.54328E+12', '88']\n",
      "\n",
      "[\"The B-52's\", 'Logged In', 'Gianna', 'F', '0', 'Jones', '321.54077', 'free', 'New York-Newark-Jersey City, NY-NJ-PA', 'PUT', 'NextSong', '1.54087E+12', '107', 'Love Shack', '200', '1.54328E+12', '38']\n",
      "\n",
      "['Die Mooskirchner', 'Logged In', 'Gianna', 'F', '1', 'Jones', '169.29914', 'free', 'New York-Newark-Jersey City, NY-NJ-PA', 'PUT', 'NextSong', '1.54087E+12', '107', \"Frisch und g'sund\", '200', '1.54328E+12', '38']\n"
     ]
    }
   ],
   "source": [
    "full_data_rows_list = [] \n",
    "\n",
    "for f in file_path_list:\n",
    "    with open(f, 'r', encoding = 'utf8', newline='') as csvfile: \n",
    "        # creating a csv reader object \n",
    "        csvreader = csv.reader(csvfile) \n",
    "        next(csvreader)\n",
    "        \n",
    "        print(\"Reading from file {}\".format(f))\n",
    "        # extracting each data row one by one and append it        \n",
    "        for n, line in enumerate(csvreader, 1):\n",
    "            #print(line)\n",
    "            full_data_rows_list.append(line)\n",
    "        print(\"Done.\")\n",
    "        print(\"Lines read: {}\\n\".format(n))\n",
    "\n",
    "print(\"\\n-----------------------------------------------------------\\n\")\n",
    "print(\"Total lines read: {}\".format(len(full_data_rows_list)))\n",
    "print(\"\\n-----------------------------------------------------------\\n\")\n",
    "print(\"First five lines read:\\n\")\n",
    "print(*full_data_rows_list[:5], sep=\"\\n\\n\")\n",
    "\n",
    "# creating a event data csv file called event_datafile_new.csv that will be used to insert data into the\n",
    "# Apache Cassandra tables\n",
    "csv.register_dialect('myDialect', quoting=csv.QUOTE_ALL, skipinitialspace=True)\n",
    "\n",
    "with open('event_datafile_new.csv', 'w', encoding = 'utf8', newline='') as f:\n",
    "    writer = csv.writer(f, dialect='myDialect')\n",
    "    writer.writerow(['artist','firstName','gender','itemInSession','lastName','length',\\\n",
    "                'level','location','sessionId','song','userId'])\n",
    "    for row in full_data_rows_list:\n",
    "        if (row[0] == ''):\n",
    "            continue\n",
    "        writer.writerow((row[0], row[2], row[3], row[4], row[5], row[6], row[7], row[8], row[12], row[13], row[16]))\n"
   ]
  },
  {
   "cell_type": "code",
   "execution_count": 4,
   "metadata": {
    "editable": true
   },
   "outputs": [
    {
     "name": "stdout",
     "output_type": "stream",
     "text": [
      "Total rows in 'event_datafile_new.csv' (excluding header row):\n",
      "6820\n"
     ]
    }
   ],
   "source": [
    "# check the number of rows in \"event_datafile_new.csv\"\n",
    "with open('event_datafile_new.csv', 'r', encoding = 'utf8') as f:\n",
    "    csvreader = csv.reader(f)\n",
    "    # skip header row\n",
    "    next(csvreader)\n",
    "    total_rows = sum(1 for line in csvreader)\n",
    "    print(\"Total rows in 'event_datafile_new.csv' (excluding header row):\\n{}\".format(total_rows))"
   ]
  },
  {
   "cell_type": "markdown",
   "metadata": {
    "editable": true
   },
   "source": [
    "# Create queries and tables for Apache Cassandra, load data in the tables and execute queries on them \n",
    "\n",
    "## Now we are ready to work with the CSV file titled `event_datafile_new.csv`. It contains the following columns: \n",
    "- artist \n",
    "- firstName of user\n",
    "- gender of user\n",
    "- item number in session\n",
    "- last name of user\n",
    "- length of the song\n",
    "- level (paid or free song)\n",
    "- location of the user\n",
    "- sessionId\n",
    "- song title\n",
    "- userId\n",
    "\n",
    "The image below is a screenshot of a portion of data in the csv file.\n",
    "\n",
    "<img src=\"images/image_event_datafile_new.jpg\">"
   ]
  },
  {
   "cell_type": "markdown",
   "metadata": {
    "editable": true
   },
   "source": [
    "#### Creating a Cluster"
   ]
  },
  {
   "cell_type": "code",
   "execution_count": 5,
   "metadata": {
    "editable": true
   },
   "outputs": [],
   "source": [
    "# Create a cassandra Cluster object using the Cassandra instance on local machine \n",
    "from cassandra.cluster import Cluster\n",
    "cluster = Cluster([\"127.0.0.1\"])\n",
    "\n",
    "# Create a session object to execute query to create keyspace and then asssociate that keyspace\n",
    "# to this session object using \"session.set_keyspace()\"\n",
    "session = cluster.connect()"
   ]
  },
  {
   "cell_type": "markdown",
   "metadata": {
    "editable": true
   },
   "source": [
    "#### Create Keyspace"
   ]
  },
  {
   "cell_type": "code",
   "execution_count": 6,
   "metadata": {
    "editable": true
   },
   "outputs": [
    {
     "data": {
      "text/plain": [
       "<cassandra.cluster.ResultSet at 0x7fe11a3d3828>"
      ]
     },
     "execution_count": 6,
     "metadata": {},
     "output_type": "execute_result"
    }
   ],
   "source": [
    "session.execute(\"\"\"\n",
    "    CREATE KEYSPACE IF NOT EXISTS sparkify\n",
    "    WITH REPLICATION = {\n",
    "        'class': 'SimpleStrategy',\n",
    "        'replication_factor': 1\n",
    "    }\n",
    "\"\"\")"
   ]
  },
  {
   "cell_type": "markdown",
   "metadata": {
    "editable": true
   },
   "source": [
    "#### Set Keyspace"
   ]
  },
  {
   "cell_type": "code",
   "execution_count": 7,
   "metadata": {
    "editable": true
   },
   "outputs": [],
   "source": [
    "session.set_keyspace(\"sparkify\")"
   ]
  },
  {
   "cell_type": "markdown",
   "metadata": {
    "editable": true
   },
   "source": [
    "## Now we need to create tables to run the following queries. With Apache Cassandra we model the database tables on the queries we want to run."
   ]
  },
  {
   "cell_type": "markdown",
   "metadata": {
    "editable": true
   },
   "source": [
    "## Creating queries to ask the following three questions of the data\n",
    "\n",
    "1. Give me the artist, song title and song's length in the music app history that was heard during  sessionId = 338, and itemInSession  = 4\n",
    "\n",
    "\n",
    "2. Give me only the following: name of artist, song (sorted by itemInSession) and user (first and last name) for userid = 10, sessionid = 182\n",
    "    \n",
    "\n",
    "3. Give me every user name (first and last) in my music app history who listened to the song 'All Hands Against His Own'\n",
    "\n",
    "\n"
   ]
  },
  {
   "cell_type": "markdown",
   "metadata": {
    "editable": true
   },
   "source": [
    "### Working on `query_1`:\n",
    "- Create query - `query_1`\n",
    "- Create table `song_info_by_session` acccording to `query_1`\n",
    "- Run `query_1` on the table `song_info_by_session`"
   ]
  },
  {
   "cell_type": "code",
   "execution_count": 8,
   "metadata": {
    "editable": true
   },
   "outputs": [],
   "source": [
    "# Query 1:  Give me the artist, song title and song's length in the music app history that was heard during\n",
    "#           sessionId = 338, and itemInSession = 4\n",
    "query_1 = \"\"\"\n",
    "    SELECT artist, song, length\n",
    "    FROM song_info_by_session\n",
    "    WHERE sessionId = 338 AND itemInSession = 4\n",
    "\"\"\""
   ]
  },
  {
   "cell_type": "code",
   "execution_count": 9,
   "metadata": {
    "editable": true
   },
   "outputs": [
    {
     "data": {
      "text/plain": [
       "<cassandra.cluster.ResultSet at 0x7fe11a3d05f8>"
      ]
     },
     "execution_count": 9,
     "metadata": {},
     "output_type": "execute_result"
    }
   ],
   "source": [
    "# Create table \"song_info_by_session\" to meet the \"query_1\" requirements\n",
    "# Here, \"sessionId\" is partition key and \"itemInSession\" is clustering key\n",
    "create_table_query_1 = \"\"\"\n",
    "    CREATE TABLE IF NOT EXISTS song_info_by_session (\n",
    "        sessionId INT,\n",
    "        itemInSession INT,\n",
    "        artist TEXT,\n",
    "        song TEXT,\n",
    "        length FLOAT,\n",
    "        PRIMARY KEY (sessionId, itemInSession)\n",
    "    )\n",
    "\"\"\"\n",
    "session.execute(create_table_query_1)"
   ]
  },
  {
   "cell_type": "code",
   "execution_count": 10,
   "metadata": {
    "editable": true
   },
   "outputs": [],
   "source": [
    "# Insert required columns in table \"song_records_1\" from all rows in \"event_datafile_new.csv\"\n",
    "file = \"event_datafile_new.csv\"\n",
    "\n",
    "query = \"\"\"\n",
    "    INSERT INTO song_info_by_session (sessionId, itemInSession, artist, song, length)\n",
    "    VALUES (%s, %s, %s, %s, %s)\n",
    "\"\"\"\n",
    "with open(file, encoding = \"utf8\") as f:\n",
    "    csvreader = csv.reader(f)\n",
    "    next(csvreader) # skip header\n",
    "    for line in csvreader:\n",
    "        sessionId = int(line[-3])\n",
    "        itemInSession = int(line[3])\n",
    "        artist = str(line[0])\n",
    "        song = str(line[-2])\n",
    "        length = float(line[5])\n",
    "        session.execute(query, (sessionId, itemInSession, artist, song, length))"
   ]
  },
  {
   "cell_type": "markdown",
   "metadata": {
    "editable": true
   },
   "source": [
    "#### Executing `query_1` to get desired results and also verify rows insertion into the table `song_info_by_session` was successful"
   ]
  },
  {
   "cell_type": "code",
   "execution_count": 11,
   "metadata": {
    "editable": true,
    "scrolled": true
   },
   "outputs": [
    {
     "data": {
      "text/html": [
       "<div>\n",
       "<style scoped>\n",
       "    .dataframe tbody tr th:only-of-type {\n",
       "        vertical-align: middle;\n",
       "    }\n",
       "\n",
       "    .dataframe tbody tr th {\n",
       "        vertical-align: top;\n",
       "    }\n",
       "\n",
       "    .dataframe thead th {\n",
       "        text-align: right;\n",
       "    }\n",
       "</style>\n",
       "<table border=\"1\" class=\"dataframe\">\n",
       "  <thead>\n",
       "    <tr style=\"text-align: right;\">\n",
       "      <th></th>\n",
       "      <th>artist</th>\n",
       "      <th>song</th>\n",
       "      <th>length</th>\n",
       "    </tr>\n",
       "  </thead>\n",
       "  <tbody>\n",
       "    <tr>\n",
       "      <th>0</th>\n",
       "      <td>Faithless</td>\n",
       "      <td>Music Matters (Mark Knight Dub)</td>\n",
       "      <td>495.307312</td>\n",
       "    </tr>\n",
       "  </tbody>\n",
       "</table>\n",
       "</div>"
      ],
      "text/plain": [
       "      artist                             song      length\n",
       "0  Faithless  Music Matters (Mark Knight Dub)  495.307312"
      ]
     },
     "execution_count": 11,
     "metadata": {},
     "output_type": "execute_result"
    }
   ],
   "source": [
    "rows = session.execute(query_1)\n",
    "df = pd.DataFrame(list(rows))\n",
    "df"
   ]
  },
  {
   "cell_type": "markdown",
   "metadata": {
    "editable": true
   },
   "source": [
    "### Working on `query_2`:\n",
    "- Create query - `query_2`\n",
    "- Create table `song_info_by_user_session` acccording to `query_2`\n",
    "- Run `query_2` on the table `song_info_by_user_session`"
   ]
  },
  {
   "cell_type": "code",
   "execution_count": 12,
   "metadata": {
    "editable": true
   },
   "outputs": [],
   "source": [
    "# Query 2: Give me only the following: name of artist, song (sorted by itemInSession) and user (first and last name)\n",
    "#          for userId = 10, sessionId = 182\n",
    "query_2 = \"\"\"\n",
    "    SELECT artist, song, firstName, lastName\n",
    "    FROM song_info_by_user_session\n",
    "    WHERE userId = 10 AND sessionId = 182\n",
    "\"\"\"                   "
   ]
  },
  {
   "cell_type": "code",
   "execution_count": 13,
   "metadata": {
    "editable": true
   },
   "outputs": [
    {
     "data": {
      "text/plain": [
       "<cassandra.cluster.ResultSet at 0x7fe11a38c9e8>"
      ]
     },
     "execution_count": 13,
     "metadata": {},
     "output_type": "execute_result"
    }
   ],
   "source": [
    "# Create table \"song_info_by_user_session\" to meet the \"query_2\" requirements\n",
    "# Here, (\"userId\", \"sessionId\") is composite partition key and \"itemInSession\" is clustering key\n",
    "create_table_query_2 = \"\"\"\n",
    "    CREATE TABLE IF NOT EXISTS song_info_by_user_session (\n",
    "        userId INT,\n",
    "        sessionId INT,\n",
    "        itemInSession INT,\n",
    "        artist TEXT,\n",
    "        song TEXT,\n",
    "        firstName TEXT,\n",
    "        lastName TEXT,\n",
    "        PRIMARY KEY ((userId, sessionId), itemInSession)\n",
    "    )\n",
    "\"\"\"\n",
    "session.execute(create_table_query_2)"
   ]
  },
  {
   "cell_type": "code",
   "execution_count": 14,
   "metadata": {
    "editable": true
   },
   "outputs": [],
   "source": [
    "# Insert required columns in table \"song_info_by_user_session\" from all rows in \"event_datafile_new.csv\"\n",
    "file = \"event_datafile_new.csv\"\n",
    "\n",
    "query = \"\"\"\n",
    "    INSERT INTO song_info_by_user_session (userId, sessionId, itemInSession, artist, song, firstName, lastName)\n",
    "    VALUES (%s, %s, %s, %s, %s, %s, %s)\n",
    "\"\"\"\n",
    "with open(file, encoding = \"utf8\") as f:\n",
    "    csvreader = csv.reader(f)\n",
    "    next(csvreader) # skip header\n",
    "    for line in csvreader:\n",
    "        userId = int(line[-1])\n",
    "        sessionId = int(line[-3])\n",
    "        itemInSession = int(line[3])\n",
    "        artist = str(line[0])\n",
    "        song = str(line[-2])\n",
    "        firstName = str(line[1])\n",
    "        lastName = str(line[4])\n",
    "        session.execute(query, (userId, sessionId, itemInSession, artist, song, firstName, lastName))"
   ]
  },
  {
   "cell_type": "markdown",
   "metadata": {
    "editable": true
   },
   "source": [
    "#### Executing `query_2` to get desired results and also verify rows insertion into the table `song_info_by_user_session` was successful"
   ]
  },
  {
   "cell_type": "code",
   "execution_count": 15,
   "metadata": {
    "editable": true
   },
   "outputs": [
    {
     "data": {
      "text/html": [
       "<div>\n",
       "<style scoped>\n",
       "    .dataframe tbody tr th:only-of-type {\n",
       "        vertical-align: middle;\n",
       "    }\n",
       "\n",
       "    .dataframe tbody tr th {\n",
       "        vertical-align: top;\n",
       "    }\n",
       "\n",
       "    .dataframe thead th {\n",
       "        text-align: right;\n",
       "    }\n",
       "</style>\n",
       "<table border=\"1\" class=\"dataframe\">\n",
       "  <thead>\n",
       "    <tr style=\"text-align: right;\">\n",
       "      <th></th>\n",
       "      <th>artist</th>\n",
       "      <th>song</th>\n",
       "      <th>firstname</th>\n",
       "      <th>lastname</th>\n",
       "    </tr>\n",
       "  </thead>\n",
       "  <tbody>\n",
       "    <tr>\n",
       "      <th>0</th>\n",
       "      <td>Down To The Bone</td>\n",
       "      <td>Keep On Keepin' On</td>\n",
       "      <td>Sylvie</td>\n",
       "      <td>Cruz</td>\n",
       "    </tr>\n",
       "    <tr>\n",
       "      <th>1</th>\n",
       "      <td>Three Drives</td>\n",
       "      <td>Greece 2000</td>\n",
       "      <td>Sylvie</td>\n",
       "      <td>Cruz</td>\n",
       "    </tr>\n",
       "    <tr>\n",
       "      <th>2</th>\n",
       "      <td>Sebastien Tellier</td>\n",
       "      <td>Kilometer</td>\n",
       "      <td>Sylvie</td>\n",
       "      <td>Cruz</td>\n",
       "    </tr>\n",
       "    <tr>\n",
       "      <th>3</th>\n",
       "      <td>Lonnie Gordon</td>\n",
       "      <td>Catch You Baby (Steve Pitron &amp; Max Sanna Radio...</td>\n",
       "      <td>Sylvie</td>\n",
       "      <td>Cruz</td>\n",
       "    </tr>\n",
       "  </tbody>\n",
       "</table>\n",
       "</div>"
      ],
      "text/plain": [
       "              artist                                               song  \\\n",
       "0   Down To The Bone                                 Keep On Keepin' On   \n",
       "1       Three Drives                                        Greece 2000   \n",
       "2  Sebastien Tellier                                          Kilometer   \n",
       "3      Lonnie Gordon  Catch You Baby (Steve Pitron & Max Sanna Radio...   \n",
       "\n",
       "  firstname lastname  \n",
       "0    Sylvie     Cruz  \n",
       "1    Sylvie     Cruz  \n",
       "2    Sylvie     Cruz  \n",
       "3    Sylvie     Cruz  "
      ]
     },
     "execution_count": 15,
     "metadata": {},
     "output_type": "execute_result"
    }
   ],
   "source": [
    "rows = session.execute(query_2)\n",
    "df = pd.DataFrame(list(rows))\n",
    "df"
   ]
  },
  {
   "cell_type": "markdown",
   "metadata": {
    "editable": true
   },
   "source": [
    "### Working on `query_3`:\n",
    "- Create query - `query_3`\n",
    "- Create table `username_by_song` acccording to `query_3`\n",
    "- Run `query_3` on the table `username_by_song`"
   ]
  },
  {
   "cell_type": "code",
   "execution_count": 16,
   "metadata": {
    "editable": true
   },
   "outputs": [],
   "source": [
    "# Query 3: Give me every user name (first and last) in my music app history who listened\n",
    "#          to the song 'All Hands Against His Own'\n",
    "query_3 = \"\"\"\n",
    "    SELECT firstName, lastName\n",
    "    FROM username_by_song\n",
    "    WHERE song = 'All Hands Against His Own'\n",
    "\"\"\"            "
   ]
  },
  {
   "cell_type": "code",
   "execution_count": 17,
   "metadata": {
    "editable": true
   },
   "outputs": [
    {
     "data": {
      "text/plain": [
       "<cassandra.cluster.ResultSet at 0x7fe11a38cc88>"
      ]
     },
     "execution_count": 17,
     "metadata": {},
     "output_type": "execute_result"
    }
   ],
   "source": [
    "# Create table \"song_records_3\" to meet the \"query_3\" requirements\n",
    "# Here, \"song\" is partition key and \"sessionId\", \"itemInSession\" are clustering keys.\n",
    "create_table_query_3 = \"\"\"\n",
    "    CREATE TABLE IF NOT EXISTS username_by_song (\n",
    "        song TEXT,\n",
    "        sessionId INT,\n",
    "        itemInSession INT,\n",
    "        firstName TEXT,\n",
    "        lastName TEXT,\n",
    "        PRIMARY KEY ((song), sessionId, itemInSession)\n",
    "    )\n",
    "\"\"\"\n",
    "session.execute(create_table_query_3)"
   ]
  },
  {
   "cell_type": "code",
   "execution_count": 18,
   "metadata": {
    "editable": true
   },
   "outputs": [],
   "source": [
    "# Insert required columns in table \"username_by_song\" from all rows in \"event_datafile_new.csv\"\n",
    "file = \"event_datafile_new.csv\"\n",
    "\n",
    "query = \"\"\"\n",
    "    INSERT INTO username_by_song (song, sessionId, itemInSession, firstName, lastName)\n",
    "    VALUES (%s, %s, %s, %s, %s)\n",
    "\"\"\"\n",
    "with open(file, encoding = \"utf8\") as f:\n",
    "    csvreader = csv.reader(f)\n",
    "    next(csvreader) # skip header\n",
    "    for line in csvreader: \n",
    "        song = str(line[-2])\n",
    "        sessionId = int(line[-3])\n",
    "        itemInSession = int(line[3])\n",
    "        firstName = str(line[1])\n",
    "        lastName = str(line[4])\n",
    "        session.execute(query, (song, sessionId, itemInSession, firstName, lastName))"
   ]
  },
  {
   "cell_type": "markdown",
   "metadata": {
    "editable": true
   },
   "source": [
    "#### Executing `query_3` to get desired results and also verify rows insertion into the table `user_name_by_song` was successful"
   ]
  },
  {
   "cell_type": "code",
   "execution_count": 19,
   "metadata": {
    "editable": true
   },
   "outputs": [
    {
     "data": {
      "text/html": [
       "<div>\n",
       "<style scoped>\n",
       "    .dataframe tbody tr th:only-of-type {\n",
       "        vertical-align: middle;\n",
       "    }\n",
       "\n",
       "    .dataframe tbody tr th {\n",
       "        vertical-align: top;\n",
       "    }\n",
       "\n",
       "    .dataframe thead th {\n",
       "        text-align: right;\n",
       "    }\n",
       "</style>\n",
       "<table border=\"1\" class=\"dataframe\">\n",
       "  <thead>\n",
       "    <tr style=\"text-align: right;\">\n",
       "      <th></th>\n",
       "      <th>firstname</th>\n",
       "      <th>lastname</th>\n",
       "    </tr>\n",
       "  </thead>\n",
       "  <tbody>\n",
       "    <tr>\n",
       "      <th>0</th>\n",
       "      <td>Sara</td>\n",
       "      <td>Johnson</td>\n",
       "    </tr>\n",
       "    <tr>\n",
       "      <th>1</th>\n",
       "      <td>Jacqueline</td>\n",
       "      <td>Lynch</td>\n",
       "    </tr>\n",
       "    <tr>\n",
       "      <th>2</th>\n",
       "      <td>Tegan</td>\n",
       "      <td>Levine</td>\n",
       "    </tr>\n",
       "  </tbody>\n",
       "</table>\n",
       "</div>"
      ],
      "text/plain": [
       "    firstname lastname\n",
       "0        Sara  Johnson\n",
       "1  Jacqueline    Lynch\n",
       "2       Tegan   Levine"
      ]
     },
     "execution_count": 19,
     "metadata": {},
     "output_type": "execute_result"
    }
   ],
   "source": [
    "rows = session.execute(query_3)\n",
    "df = pd.DataFrame(list(rows))\n",
    "df"
   ]
  },
  {
   "cell_type": "markdown",
   "metadata": {
    "editable": true
   },
   "source": [
    "### Drop the tables before closing out the sessions"
   ]
  },
  {
   "cell_type": "code",
   "execution_count": 20,
   "metadata": {
    "editable": true
   },
   "outputs": [
    {
     "data": {
      "text/plain": [
       "<cassandra.cluster.ResultSet at 0x7fe11a3b8278>"
      ]
     },
     "execution_count": 20,
     "metadata": {},
     "output_type": "execute_result"
    }
   ],
   "source": [
    "session.execute(\"DROP TABLE IF EXISTS song_info_by_session\")\n",
    "session.execute(\"DROP TABLE IF EXISTS song_info_by_user_session\")\n",
    "session.execute(\"DROP TABLE IF EXISTS username_by_song\")"
   ]
  },
  {
   "cell_type": "markdown",
   "metadata": {
    "editable": true
   },
   "source": [
    "### Close the session and cluster connection¶"
   ]
  },
  {
   "cell_type": "code",
   "execution_count": 21,
   "metadata": {
    "editable": true
   },
   "outputs": [],
   "source": [
    "session.shutdown()\n",
    "cluster.shutdown()"
   ]
  },
  {
   "cell_type": "code",
   "execution_count": null,
   "metadata": {
    "editable": true
   },
   "outputs": [],
   "source": []
  }
 ],
 "metadata": {
  "kernelspec": {
   "display_name": "Python 3",
   "language": "python",
   "name": "python3"
  },
  "language_info": {
   "codemirror_mode": {
    "name": "ipython",
    "version": 3
   },
   "file_extension": ".py",
   "mimetype": "text/x-python",
   "name": "python",
   "nbconvert_exporter": "python",
   "pygments_lexer": "ipython3",
   "version": "3.6.3"
  }
 },
 "nbformat": 4,
 "nbformat_minor": 4
}
